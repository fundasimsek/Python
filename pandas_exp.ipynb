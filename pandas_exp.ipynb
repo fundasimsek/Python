{
  "nbformat": 4,
  "nbformat_minor": 0,
  "metadata": {
    "colab": {
      "name": "pandas_library.ipynb",
      "provenance": [],
      "collapsed_sections": [],
      "include_colab_link": true
    },
    "kernelspec": {
      "name": "python3",
      "display_name": "Python 3"
    }
  },
  "cells": [
    {
      "cell_type": "markdown",
      "metadata": {
        "id": "view-in-github",
        "colab_type": "text"
      },
      "source": [
        "<a href=\"https://colab.research.google.com/github/omercengiz/PythonCourse/blob/master/silinecek.ipynb\" target=\"_parent\"><img src=\"https://colab.research.google.com/assets/colab-badge.svg\" alt=\"Open In Colab\"/></a>"
      ]
    },
    {
      "cell_type": "code",
      "metadata": {
        "id": "jRcuu1vFfMAa"
      },
      "source": [
        "import pandas as pd\n",
        "import numpy as np"
      ],
      "execution_count": null,
      "outputs": []
    },
    {
      "cell_type": "code",
      "metadata": {
        "id": "MoP72w9efsig",
        "colab": {
          "base_uri": "https://localhost:8080/"
        },
        "outputId": "384b7982-4364-404d-b0db-622402ac80b7"
      },
      "source": [
        "pd.Series([10, -5, 1.1, 77.7])"
      ],
      "execution_count": null,
      "outputs": [
        {
          "output_type": "execute_result",
          "data": {
            "text/plain": [
              "0    10.0\n",
              "1    -5.0\n",
              "2     1.1\n",
              "3    77.7\n",
              "dtype: float64"
            ]
          },
          "metadata": {
            "tags": []
          },
          "execution_count": 2
        }
      ]
    },
    {
      "cell_type": "code",
      "metadata": {
        "id": "kLkEKeKBfxRz",
        "colab": {
          "base_uri": "https://localhost:8080/"
        },
        "outputId": "3ac939c5-b413-49b5-b1fc-26779e9d55a3"
      },
      "source": [
        "pd.Series([10, -5, 1.1, 77.7], index=[\"Chandler\", \"Bing\", \"Bender\", \"Rodriguez\"])"
      ],
      "execution_count": null,
      "outputs": [
        {
          "output_type": "execute_result",
          "data": {
            "text/plain": [
              "Chandler     10.0\n",
              "Bing         -5.0\n",
              "Bender        1.1\n",
              "Rodriguez    77.7\n",
              "dtype: float64"
            ]
          },
          "metadata": {
            "tags": []
          },
          "execution_count": 4
        }
      ]
    },
    {
      "cell_type": "code",
      "metadata": {
        "id": "FK44L__XgJcV"
      },
      "source": [
        "data = {\n",
        "    \"isim\": [\"Ahmet\", \"Ezgi\", \"Mehmet\", \"Sevda\"],\n",
        "    \"boy\": [180, 170, 150, np.nan],\n",
        "    \"ayakkabi_no\": [42, np.nan, 39, 36],\n",
        "    \"kilo\": [80, 50, 70, 45]\n",
        "}"
      ],
      "execution_count": null,
      "outputs": []
    },
    {
      "cell_type": "code",
      "metadata": {
        "colab": {
          "base_uri": "https://localhost:8080/"
        },
        "id": "bnwoACBw07vo",
        "outputId": "50695d89-0c1c-4e7e-9e60-c67ffe5d9c26"
      },
      "source": [
        "print(data)"
      ],
      "execution_count": null,
      "outputs": [
        {
          "output_type": "stream",
          "text": [
            "{'isim': ['Ahmet', 'Ezgi', 'Mehmet', 'Sevda'], 'boy': [180, 170, 150, nan], 'ayakkabi_no': [42, nan, 39, 36], 'kilo': [80, 50, 70, 45]}\n"
          ],
          "name": "stdout"
        }
      ]
    },
    {
      "cell_type": "code",
      "metadata": {
        "id": "MHXDy8Ztgx7y",
        "colab": {
          "base_uri": "https://localhost:8080/"
        },
        "outputId": "27a5c414-b3d2-4206-ebb3-6457bc1ad86d"
      },
      "source": [
        "from pprint import pprint\n",
        "pprint(data)"
      ],
      "execution_count": null,
      "outputs": [
        {
          "output_type": "stream",
          "text": [
            "{'ayakkabi_no': [42, nan, 39, 36],\n",
            " 'boy': [180, 170, 150, nan],\n",
            " 'isim': ['Ahmet', 'Ezgi', 'Mehmet', 'Sevda'],\n",
            " 'kilo': [80, 50, 70, 45]}\n"
          ],
          "name": "stdout"
        }
      ]
    },
    {
      "cell_type": "code",
      "metadata": {
        "id": "JjD2ZJUVpkN8",
        "colab": {
          "base_uri": "https://localhost:8080/"
        },
        "outputId": "ab1990e1-48b9-489f-bbff-2641d68b0aa2"
      },
      "source": [
        "rand_numbers = np.random.random((7, 4))\n",
        "rand_numbers"
      ],
      "execution_count": null,
      "outputs": [
        {
          "output_type": "execute_result",
          "data": {
            "text/plain": [
              "array([[0.95943803, 0.77338016, 0.33261452, 0.25955663],\n",
              "       [0.72265078, 0.05205603, 0.40165607, 0.65656963],\n",
              "       [0.31884868, 0.42420329, 0.05159324, 0.01666683],\n",
              "       [0.50492224, 0.85183682, 0.24628161, 0.90302348],\n",
              "       [0.03103594, 0.36289873, 0.76872714, 0.41371931],\n",
              "       [0.27527   , 0.92445293, 0.73464982, 0.87516319],\n",
              "       [0.93154097, 0.04140702, 0.90543912, 0.0581104 ]])"
            ]
          },
          "metadata": {
            "tags": []
          },
          "execution_count": 34
        }
      ]
    },
    {
      "cell_type": "code",
      "metadata": {
        "id": "5X6falhPpIWI",
        "colab": {
          "base_uri": "https://localhost:8080/",
          "height": 266
        },
        "outputId": "8dd36a13-590d-43d8-8ad5-fdd48e3f1a4a"
      },
      "source": [
        "# Data structure also contains labeled axes (rows and columns).\n",
        "# Etiketlenmiş eksenler içeren veri tipi ( satırlar ve sütunlar ).\n",
        "df = pd.DataFrame(rand_numbers)\n",
        "df"
      ],
      "execution_count": null,
      "outputs": [
        {
          "output_type": "execute_result",
          "data": {
            "text/html": [
              "<div>\n",
              "<style scoped>\n",
              "    .dataframe tbody tr th:only-of-type {\n",
              "        vertical-align: middle;\n",
              "    }\n",
              "\n",
              "    .dataframe tbody tr th {\n",
              "        vertical-align: top;\n",
              "    }\n",
              "\n",
              "    .dataframe thead th {\n",
              "        text-align: right;\n",
              "    }\n",
              "</style>\n",
              "<table border=\"1\" class=\"dataframe\">\n",
              "  <thead>\n",
              "    <tr style=\"text-align: right;\">\n",
              "      <th></th>\n",
              "      <th>0</th>\n",
              "      <th>1</th>\n",
              "      <th>2</th>\n",
              "      <th>3</th>\n",
              "    </tr>\n",
              "  </thead>\n",
              "  <tbody>\n",
              "    <tr>\n",
              "      <th>0</th>\n",
              "      <td>0.959438</td>\n",
              "      <td>0.773380</td>\n",
              "      <td>0.332615</td>\n",
              "      <td>0.259557</td>\n",
              "    </tr>\n",
              "    <tr>\n",
              "      <th>1</th>\n",
              "      <td>0.722651</td>\n",
              "      <td>0.052056</td>\n",
              "      <td>0.401656</td>\n",
              "      <td>0.656570</td>\n",
              "    </tr>\n",
              "    <tr>\n",
              "      <th>2</th>\n",
              "      <td>0.318849</td>\n",
              "      <td>0.424203</td>\n",
              "      <td>0.051593</td>\n",
              "      <td>0.016667</td>\n",
              "    </tr>\n",
              "    <tr>\n",
              "      <th>3</th>\n",
              "      <td>0.504922</td>\n",
              "      <td>0.851837</td>\n",
              "      <td>0.246282</td>\n",
              "      <td>0.903023</td>\n",
              "    </tr>\n",
              "    <tr>\n",
              "      <th>4</th>\n",
              "      <td>0.031036</td>\n",
              "      <td>0.362899</td>\n",
              "      <td>0.768727</td>\n",
              "      <td>0.413719</td>\n",
              "    </tr>\n",
              "    <tr>\n",
              "      <th>5</th>\n",
              "      <td>0.275270</td>\n",
              "      <td>0.924453</td>\n",
              "      <td>0.734650</td>\n",
              "      <td>0.875163</td>\n",
              "    </tr>\n",
              "    <tr>\n",
              "      <th>6</th>\n",
              "      <td>0.931541</td>\n",
              "      <td>0.041407</td>\n",
              "      <td>0.905439</td>\n",
              "      <td>0.058110</td>\n",
              "    </tr>\n",
              "  </tbody>\n",
              "</table>\n",
              "</div>"
            ],
            "text/plain": [
              "          0         1         2         3\n",
              "0  0.959438  0.773380  0.332615  0.259557\n",
              "1  0.722651  0.052056  0.401656  0.656570\n",
              "2  0.318849  0.424203  0.051593  0.016667\n",
              "3  0.504922  0.851837  0.246282  0.903023\n",
              "4  0.031036  0.362899  0.768727  0.413719\n",
              "5  0.275270  0.924453  0.734650  0.875163\n",
              "6  0.931541  0.041407  0.905439  0.058110"
            ]
          },
          "metadata": {
            "tags": []
          },
          "execution_count": 38
        }
      ]
    },
    {
      "cell_type": "code",
      "metadata": {
        "id": "KH6SlVAipWEz",
        "colab": {
          "base_uri": "https://localhost:8080/",
          "height": 266
        },
        "outputId": "00fede29-a785-4354-f545-07136ea20bea"
      },
      "source": [
        "df = pd.DataFrame(rand_numbers, columns=[\"00.00\", \"06.00\", \"12.00\", \"18.00\"])\n",
        "df"
      ],
      "execution_count": null,
      "outputs": [
        {
          "output_type": "execute_result",
          "data": {
            "text/html": [
              "<div>\n",
              "<style scoped>\n",
              "    .dataframe tbody tr th:only-of-type {\n",
              "        vertical-align: middle;\n",
              "    }\n",
              "\n",
              "    .dataframe tbody tr th {\n",
              "        vertical-align: top;\n",
              "    }\n",
              "\n",
              "    .dataframe thead th {\n",
              "        text-align: right;\n",
              "    }\n",
              "</style>\n",
              "<table border=\"1\" class=\"dataframe\">\n",
              "  <thead>\n",
              "    <tr style=\"text-align: right;\">\n",
              "      <th></th>\n",
              "      <th>00.00</th>\n",
              "      <th>06.00</th>\n",
              "      <th>12.00</th>\n",
              "      <th>18.00</th>\n",
              "    </tr>\n",
              "  </thead>\n",
              "  <tbody>\n",
              "    <tr>\n",
              "      <th>0</th>\n",
              "      <td>0.959438</td>\n",
              "      <td>0.773380</td>\n",
              "      <td>0.332615</td>\n",
              "      <td>0.259557</td>\n",
              "    </tr>\n",
              "    <tr>\n",
              "      <th>1</th>\n",
              "      <td>0.722651</td>\n",
              "      <td>0.052056</td>\n",
              "      <td>0.401656</td>\n",
              "      <td>0.656570</td>\n",
              "    </tr>\n",
              "    <tr>\n",
              "      <th>2</th>\n",
              "      <td>0.318849</td>\n",
              "      <td>0.424203</td>\n",
              "      <td>0.051593</td>\n",
              "      <td>0.016667</td>\n",
              "    </tr>\n",
              "    <tr>\n",
              "      <th>3</th>\n",
              "      <td>0.504922</td>\n",
              "      <td>0.851837</td>\n",
              "      <td>0.246282</td>\n",
              "      <td>0.903023</td>\n",
              "    </tr>\n",
              "    <tr>\n",
              "      <th>4</th>\n",
              "      <td>0.031036</td>\n",
              "      <td>0.362899</td>\n",
              "      <td>0.768727</td>\n",
              "      <td>0.413719</td>\n",
              "    </tr>\n",
              "    <tr>\n",
              "      <th>5</th>\n",
              "      <td>0.275270</td>\n",
              "      <td>0.924453</td>\n",
              "      <td>0.734650</td>\n",
              "      <td>0.875163</td>\n",
              "    </tr>\n",
              "    <tr>\n",
              "      <th>6</th>\n",
              "      <td>0.931541</td>\n",
              "      <td>0.041407</td>\n",
              "      <td>0.905439</td>\n",
              "      <td>0.058110</td>\n",
              "    </tr>\n",
              "  </tbody>\n",
              "</table>\n",
              "</div>"
            ],
            "text/plain": [
              "      00.00     06.00     12.00     18.00\n",
              "0  0.959438  0.773380  0.332615  0.259557\n",
              "1  0.722651  0.052056  0.401656  0.656570\n",
              "2  0.318849  0.424203  0.051593  0.016667\n",
              "3  0.504922  0.851837  0.246282  0.903023\n",
              "4  0.031036  0.362899  0.768727  0.413719\n",
              "5  0.275270  0.924453  0.734650  0.875163\n",
              "6  0.931541  0.041407  0.905439  0.058110"
            ]
          },
          "metadata": {
            "tags": []
          },
          "execution_count": 39
        }
      ]
    },
    {
      "cell_type": "code",
      "metadata": {
        "id": "vHB5ejiOpqxe",
        "colab": {
          "base_uri": "https://localhost:8080/"
        },
        "outputId": "4384a8f3-719d-400c-9bd5-2810a67c368b"
      },
      "source": [
        "dates = pd.date_range(\"20210309\", periods=7)\n",
        "dates"
      ],
      "execution_count": null,
      "outputs": [
        {
          "output_type": "execute_result",
          "data": {
            "text/plain": [
              "DatetimeIndex(['2021-03-09', '2021-03-10', '2021-03-11', '2021-03-12',\n",
              "               '2021-03-13', '2021-03-14', '2021-03-15'],\n",
              "              dtype='datetime64[ns]', freq='D')"
            ]
          },
          "metadata": {
            "tags": []
          },
          "execution_count": 22
        }
      ]
    },
    {
      "cell_type": "code",
      "metadata": {
        "id": "Fy2UCQEhp7HM",
        "colab": {
          "base_uri": "https://localhost:8080/",
          "height": 266
        },
        "outputId": "35d4a269-eaf9-460a-ddf5-b1cc67031f91"
      },
      "source": [
        "df = pd.DataFrame(rand_numbers,\n",
        "                  index=dates,\n",
        "                  columns=[\"00.00\", \"06.00\", \"12.00\", \"18.00\"])\n",
        "df"
      ],
      "execution_count": null,
      "outputs": [
        {
          "output_type": "execute_result",
          "data": {
            "text/html": [
              "<div>\n",
              "<style scoped>\n",
              "    .dataframe tbody tr th:only-of-type {\n",
              "        vertical-align: middle;\n",
              "    }\n",
              "\n",
              "    .dataframe tbody tr th {\n",
              "        vertical-align: top;\n",
              "    }\n",
              "\n",
              "    .dataframe thead th {\n",
              "        text-align: right;\n",
              "    }\n",
              "</style>\n",
              "<table border=\"1\" class=\"dataframe\">\n",
              "  <thead>\n",
              "    <tr style=\"text-align: right;\">\n",
              "      <th></th>\n",
              "      <th>00.00</th>\n",
              "      <th>06.00</th>\n",
              "      <th>12.00</th>\n",
              "      <th>18.00</th>\n",
              "    </tr>\n",
              "  </thead>\n",
              "  <tbody>\n",
              "    <tr>\n",
              "      <th>2021-03-09</th>\n",
              "      <td>0.959438</td>\n",
              "      <td>0.773380</td>\n",
              "      <td>0.332615</td>\n",
              "      <td>0.259557</td>\n",
              "    </tr>\n",
              "    <tr>\n",
              "      <th>2021-03-10</th>\n",
              "      <td>0.722651</td>\n",
              "      <td>0.052056</td>\n",
              "      <td>0.401656</td>\n",
              "      <td>0.656570</td>\n",
              "    </tr>\n",
              "    <tr>\n",
              "      <th>2021-03-11</th>\n",
              "      <td>0.318849</td>\n",
              "      <td>0.424203</td>\n",
              "      <td>0.051593</td>\n",
              "      <td>0.016667</td>\n",
              "    </tr>\n",
              "    <tr>\n",
              "      <th>2021-03-12</th>\n",
              "      <td>0.504922</td>\n",
              "      <td>0.851837</td>\n",
              "      <td>0.246282</td>\n",
              "      <td>0.903023</td>\n",
              "    </tr>\n",
              "    <tr>\n",
              "      <th>2021-03-13</th>\n",
              "      <td>0.031036</td>\n",
              "      <td>0.362899</td>\n",
              "      <td>0.768727</td>\n",
              "      <td>0.413719</td>\n",
              "    </tr>\n",
              "    <tr>\n",
              "      <th>2021-03-14</th>\n",
              "      <td>0.275270</td>\n",
              "      <td>0.924453</td>\n",
              "      <td>0.734650</td>\n",
              "      <td>0.875163</td>\n",
              "    </tr>\n",
              "    <tr>\n",
              "      <th>2021-03-15</th>\n",
              "      <td>0.931541</td>\n",
              "      <td>0.041407</td>\n",
              "      <td>0.905439</td>\n",
              "      <td>0.058110</td>\n",
              "    </tr>\n",
              "  </tbody>\n",
              "</table>\n",
              "</div>"
            ],
            "text/plain": [
              "               00.00     06.00     12.00     18.00\n",
              "2021-03-09  0.959438  0.773380  0.332615  0.259557\n",
              "2021-03-10  0.722651  0.052056  0.401656  0.656570\n",
              "2021-03-11  0.318849  0.424203  0.051593  0.016667\n",
              "2021-03-12  0.504922  0.851837  0.246282  0.903023\n",
              "2021-03-13  0.031036  0.362899  0.768727  0.413719\n",
              "2021-03-14  0.275270  0.924453  0.734650  0.875163\n",
              "2021-03-15  0.931541  0.041407  0.905439  0.058110"
            ]
          },
          "metadata": {
            "tags": []
          },
          "execution_count": 40
        }
      ]
    },
    {
      "cell_type": "code",
      "metadata": {
        "id": "LxfB_teUqFLr",
        "colab": {
          "base_uri": "https://localhost:8080/"
        },
        "outputId": "27b72b9d-75b8-43c5-a27b-542311cacd81"
      },
      "source": [
        "df.dtypes"
      ],
      "execution_count": null,
      "outputs": [
        {
          "output_type": "execute_result",
          "data": {
            "text/plain": [
              "00.00    float64\n",
              "06.00    float64\n",
              "12.00    float64\n",
              "18.00    float64\n",
              "dtype: object"
            ]
          },
          "metadata": {
            "tags": []
          },
          "execution_count": 41
        }
      ]
    },
    {
      "cell_type": "code",
      "metadata": {
        "id": "ebPef6uLqX9N",
        "colab": {
          "base_uri": "https://localhost:8080/",
          "height": 173
        },
        "outputId": "a54bb888-6ba8-4923-c270-d2a760e1a5f8"
      },
      "source": [
        "df2 = pd.DataFrame(\n",
        "    {\n",
        "        \"A\": 1.0,\n",
        "        \"B\": pd.Timestamp(\"20210309\"),\n",
        "        \"C\": pd.Series(1, index=list(range(4)), dtype=\"float32\"),\n",
        "        \"D\": np.array([3] * 4, dtype=\"int32\"),\n",
        "        \"E\": pd.Categorical([\"test\", \"train\", \"validation\", \"train\"]),\n",
        "        \"F\": \"foo\",\n",
        "    }\n",
        ")\n",
        "df2"
      ],
      "execution_count": null,
      "outputs": [
        {
          "output_type": "execute_result",
          "data": {
            "text/html": [
              "<div>\n",
              "<style scoped>\n",
              "    .dataframe tbody tr th:only-of-type {\n",
              "        vertical-align: middle;\n",
              "    }\n",
              "\n",
              "    .dataframe tbody tr th {\n",
              "        vertical-align: top;\n",
              "    }\n",
              "\n",
              "    .dataframe thead th {\n",
              "        text-align: right;\n",
              "    }\n",
              "</style>\n",
              "<table border=\"1\" class=\"dataframe\">\n",
              "  <thead>\n",
              "    <tr style=\"text-align: right;\">\n",
              "      <th></th>\n",
              "      <th>A</th>\n",
              "      <th>B</th>\n",
              "      <th>C</th>\n",
              "      <th>D</th>\n",
              "      <th>E</th>\n",
              "      <th>F</th>\n",
              "    </tr>\n",
              "  </thead>\n",
              "  <tbody>\n",
              "    <tr>\n",
              "      <th>0</th>\n",
              "      <td>1.0</td>\n",
              "      <td>2021-03-09</td>\n",
              "      <td>1.0</td>\n",
              "      <td>3</td>\n",
              "      <td>test</td>\n",
              "      <td>foo</td>\n",
              "    </tr>\n",
              "    <tr>\n",
              "      <th>1</th>\n",
              "      <td>1.0</td>\n",
              "      <td>2021-03-09</td>\n",
              "      <td>1.0</td>\n",
              "      <td>3</td>\n",
              "      <td>train</td>\n",
              "      <td>foo</td>\n",
              "    </tr>\n",
              "    <tr>\n",
              "      <th>2</th>\n",
              "      <td>1.0</td>\n",
              "      <td>2021-03-09</td>\n",
              "      <td>1.0</td>\n",
              "      <td>3</td>\n",
              "      <td>validation</td>\n",
              "      <td>foo</td>\n",
              "    </tr>\n",
              "    <tr>\n",
              "      <th>3</th>\n",
              "      <td>1.0</td>\n",
              "      <td>2021-03-09</td>\n",
              "      <td>1.0</td>\n",
              "      <td>3</td>\n",
              "      <td>train</td>\n",
              "      <td>foo</td>\n",
              "    </tr>\n",
              "  </tbody>\n",
              "</table>\n",
              "</div>"
            ],
            "text/plain": [
              "     A          B    C  D           E    F\n",
              "0  1.0 2021-03-09  1.0  3        test  foo\n",
              "1  1.0 2021-03-09  1.0  3       train  foo\n",
              "2  1.0 2021-03-09  1.0  3  validation  foo\n",
              "3  1.0 2021-03-09  1.0  3       train  foo"
            ]
          },
          "metadata": {
            "tags": []
          },
          "execution_count": 46
        }
      ]
    },
    {
      "cell_type": "code",
      "metadata": {
        "id": "u0Edqed8qeow",
        "colab": {
          "base_uri": "https://localhost:8080/"
        },
        "outputId": "784cb27c-1e99-4784-b817-f2760033cf8f"
      },
      "source": [
        "df2.dtypes"
      ],
      "execution_count": null,
      "outputs": [
        {
          "output_type": "execute_result",
          "data": {
            "text/plain": [
              "A           float64\n",
              "B    datetime64[ns]\n",
              "C           float32\n",
              "D             int32\n",
              "E          category\n",
              "F            object\n",
              "dtype: object"
            ]
          },
          "metadata": {
            "tags": []
          },
          "execution_count": 47
        }
      ]
    },
    {
      "cell_type": "code",
      "metadata": {
        "id": "kpN2gP7eq_-D",
        "colab": {
          "base_uri": "https://localhost:8080/",
          "height": 204
        },
        "outputId": "5c44de53-a164-422c-a2e8-fae69f04339b"
      },
      "source": [
        "df.head()"
      ],
      "execution_count": null,
      "outputs": [
        {
          "output_type": "execute_result",
          "data": {
            "text/html": [
              "<div>\n",
              "<style scoped>\n",
              "    .dataframe tbody tr th:only-of-type {\n",
              "        vertical-align: middle;\n",
              "    }\n",
              "\n",
              "    .dataframe tbody tr th {\n",
              "        vertical-align: top;\n",
              "    }\n",
              "\n",
              "    .dataframe thead th {\n",
              "        text-align: right;\n",
              "    }\n",
              "</style>\n",
              "<table border=\"1\" class=\"dataframe\">\n",
              "  <thead>\n",
              "    <tr style=\"text-align: right;\">\n",
              "      <th></th>\n",
              "      <th>00.00</th>\n",
              "      <th>06.00</th>\n",
              "      <th>12.00</th>\n",
              "      <th>18.00</th>\n",
              "    </tr>\n",
              "  </thead>\n",
              "  <tbody>\n",
              "    <tr>\n",
              "      <th>2021-03-09</th>\n",
              "      <td>0.959438</td>\n",
              "      <td>0.773380</td>\n",
              "      <td>0.332615</td>\n",
              "      <td>0.259557</td>\n",
              "    </tr>\n",
              "    <tr>\n",
              "      <th>2021-03-10</th>\n",
              "      <td>0.722651</td>\n",
              "      <td>0.052056</td>\n",
              "      <td>0.401656</td>\n",
              "      <td>0.656570</td>\n",
              "    </tr>\n",
              "    <tr>\n",
              "      <th>2021-03-11</th>\n",
              "      <td>0.318849</td>\n",
              "      <td>0.424203</td>\n",
              "      <td>0.051593</td>\n",
              "      <td>0.016667</td>\n",
              "    </tr>\n",
              "    <tr>\n",
              "      <th>2021-03-12</th>\n",
              "      <td>0.504922</td>\n",
              "      <td>0.851837</td>\n",
              "      <td>0.246282</td>\n",
              "      <td>0.903023</td>\n",
              "    </tr>\n",
              "    <tr>\n",
              "      <th>2021-03-13</th>\n",
              "      <td>0.031036</td>\n",
              "      <td>0.362899</td>\n",
              "      <td>0.768727</td>\n",
              "      <td>0.413719</td>\n",
              "    </tr>\n",
              "  </tbody>\n",
              "</table>\n",
              "</div>"
            ],
            "text/plain": [
              "               00.00     06.00     12.00     18.00\n",
              "2021-03-09  0.959438  0.773380  0.332615  0.259557\n",
              "2021-03-10  0.722651  0.052056  0.401656  0.656570\n",
              "2021-03-11  0.318849  0.424203  0.051593  0.016667\n",
              "2021-03-12  0.504922  0.851837  0.246282  0.903023\n",
              "2021-03-13  0.031036  0.362899  0.768727  0.413719"
            ]
          },
          "metadata": {
            "tags": []
          },
          "execution_count": 48
        }
      ]
    },
    {
      "cell_type": "code",
      "metadata": {
        "id": "VcP2u-sfrQhz",
        "colab": {
          "base_uri": "https://localhost:8080/",
          "height": 111
        },
        "outputId": "bb02bfb7-28ef-42ed-ea8e-0cc29b50b058"
      },
      "source": [
        "df.head(2)"
      ],
      "execution_count": null,
      "outputs": [
        {
          "output_type": "execute_result",
          "data": {
            "text/html": [
              "<div>\n",
              "<style scoped>\n",
              "    .dataframe tbody tr th:only-of-type {\n",
              "        vertical-align: middle;\n",
              "    }\n",
              "\n",
              "    .dataframe tbody tr th {\n",
              "        vertical-align: top;\n",
              "    }\n",
              "\n",
              "    .dataframe thead th {\n",
              "        text-align: right;\n",
              "    }\n",
              "</style>\n",
              "<table border=\"1\" class=\"dataframe\">\n",
              "  <thead>\n",
              "    <tr style=\"text-align: right;\">\n",
              "      <th></th>\n",
              "      <th>00.00</th>\n",
              "      <th>06.00</th>\n",
              "      <th>12.00</th>\n",
              "      <th>18.00</th>\n",
              "    </tr>\n",
              "  </thead>\n",
              "  <tbody>\n",
              "    <tr>\n",
              "      <th>2021-03-09</th>\n",
              "      <td>0.959438</td>\n",
              "      <td>0.773380</td>\n",
              "      <td>0.332615</td>\n",
              "      <td>0.259557</td>\n",
              "    </tr>\n",
              "    <tr>\n",
              "      <th>2021-03-10</th>\n",
              "      <td>0.722651</td>\n",
              "      <td>0.052056</td>\n",
              "      <td>0.401656</td>\n",
              "      <td>0.656570</td>\n",
              "    </tr>\n",
              "  </tbody>\n",
              "</table>\n",
              "</div>"
            ],
            "text/plain": [
              "               00.00     06.00     12.00     18.00\n",
              "2021-03-09  0.959438  0.773380  0.332615  0.259557\n",
              "2021-03-10  0.722651  0.052056  0.401656  0.656570"
            ]
          },
          "metadata": {
            "tags": []
          },
          "execution_count": 49
        }
      ]
    },
    {
      "cell_type": "code",
      "metadata": {
        "id": "B2lYuii_rSSj",
        "colab": {
          "base_uri": "https://localhost:8080/",
          "height": 204
        },
        "outputId": "f930654c-2a4b-4042-eb93-f895dcc4abfe"
      },
      "source": [
        "df.tail()"
      ],
      "execution_count": null,
      "outputs": [
        {
          "output_type": "execute_result",
          "data": {
            "text/html": [
              "<div>\n",
              "<style scoped>\n",
              "    .dataframe tbody tr th:only-of-type {\n",
              "        vertical-align: middle;\n",
              "    }\n",
              "\n",
              "    .dataframe tbody tr th {\n",
              "        vertical-align: top;\n",
              "    }\n",
              "\n",
              "    .dataframe thead th {\n",
              "        text-align: right;\n",
              "    }\n",
              "</style>\n",
              "<table border=\"1\" class=\"dataframe\">\n",
              "  <thead>\n",
              "    <tr style=\"text-align: right;\">\n",
              "      <th></th>\n",
              "      <th>00.00</th>\n",
              "      <th>06.00</th>\n",
              "      <th>12.00</th>\n",
              "      <th>18.00</th>\n",
              "    </tr>\n",
              "  </thead>\n",
              "  <tbody>\n",
              "    <tr>\n",
              "      <th>2021-03-11</th>\n",
              "      <td>0.318849</td>\n",
              "      <td>0.424203</td>\n",
              "      <td>0.051593</td>\n",
              "      <td>0.016667</td>\n",
              "    </tr>\n",
              "    <tr>\n",
              "      <th>2021-03-12</th>\n",
              "      <td>0.504922</td>\n",
              "      <td>0.851837</td>\n",
              "      <td>0.246282</td>\n",
              "      <td>0.903023</td>\n",
              "    </tr>\n",
              "    <tr>\n",
              "      <th>2021-03-13</th>\n",
              "      <td>0.031036</td>\n",
              "      <td>0.362899</td>\n",
              "      <td>0.768727</td>\n",
              "      <td>0.413719</td>\n",
              "    </tr>\n",
              "    <tr>\n",
              "      <th>2021-03-14</th>\n",
              "      <td>0.275270</td>\n",
              "      <td>0.924453</td>\n",
              "      <td>0.734650</td>\n",
              "      <td>0.875163</td>\n",
              "    </tr>\n",
              "    <tr>\n",
              "      <th>2021-03-15</th>\n",
              "      <td>0.931541</td>\n",
              "      <td>0.041407</td>\n",
              "      <td>0.905439</td>\n",
              "      <td>0.058110</td>\n",
              "    </tr>\n",
              "  </tbody>\n",
              "</table>\n",
              "</div>"
            ],
            "text/plain": [
              "               00.00     06.00     12.00     18.00\n",
              "2021-03-11  0.318849  0.424203  0.051593  0.016667\n",
              "2021-03-12  0.504922  0.851837  0.246282  0.903023\n",
              "2021-03-13  0.031036  0.362899  0.768727  0.413719\n",
              "2021-03-14  0.275270  0.924453  0.734650  0.875163\n",
              "2021-03-15  0.931541  0.041407  0.905439  0.058110"
            ]
          },
          "metadata": {
            "tags": []
          },
          "execution_count": 50
        }
      ]
    },
    {
      "cell_type": "code",
      "metadata": {
        "id": "9jgbP7m1rTQe",
        "colab": {
          "base_uri": "https://localhost:8080/",
          "height": 111
        },
        "outputId": "3ee21ed4-72d3-4670-8890-284b83ed1e4d"
      },
      "source": [
        "df.tail(2)"
      ],
      "execution_count": null,
      "outputs": [
        {
          "output_type": "execute_result",
          "data": {
            "text/html": [
              "<div>\n",
              "<style scoped>\n",
              "    .dataframe tbody tr th:only-of-type {\n",
              "        vertical-align: middle;\n",
              "    }\n",
              "\n",
              "    .dataframe tbody tr th {\n",
              "        vertical-align: top;\n",
              "    }\n",
              "\n",
              "    .dataframe thead th {\n",
              "        text-align: right;\n",
              "    }\n",
              "</style>\n",
              "<table border=\"1\" class=\"dataframe\">\n",
              "  <thead>\n",
              "    <tr style=\"text-align: right;\">\n",
              "      <th></th>\n",
              "      <th>00.00</th>\n",
              "      <th>06.00</th>\n",
              "      <th>12.00</th>\n",
              "      <th>18.00</th>\n",
              "    </tr>\n",
              "  </thead>\n",
              "  <tbody>\n",
              "    <tr>\n",
              "      <th>2021-03-14</th>\n",
              "      <td>0.275270</td>\n",
              "      <td>0.924453</td>\n",
              "      <td>0.734650</td>\n",
              "      <td>0.875163</td>\n",
              "    </tr>\n",
              "    <tr>\n",
              "      <th>2021-03-15</th>\n",
              "      <td>0.931541</td>\n",
              "      <td>0.041407</td>\n",
              "      <td>0.905439</td>\n",
              "      <td>0.058110</td>\n",
              "    </tr>\n",
              "  </tbody>\n",
              "</table>\n",
              "</div>"
            ],
            "text/plain": [
              "               00.00     06.00     12.00     18.00\n",
              "2021-03-14  0.275270  0.924453  0.734650  0.875163\n",
              "2021-03-15  0.931541  0.041407  0.905439  0.058110"
            ]
          },
          "metadata": {
            "tags": []
          },
          "execution_count": 51
        }
      ]
    },
    {
      "cell_type": "code",
      "metadata": {
        "id": "dpA6VYH2rWYU",
        "colab": {
          "base_uri": "https://localhost:8080/"
        },
        "outputId": "7faac5e3-b72f-4deb-e4ae-32d538858700"
      },
      "source": [
        "df.index"
      ],
      "execution_count": null,
      "outputs": [
        {
          "output_type": "execute_result",
          "data": {
            "text/plain": [
              "DatetimeIndex(['2021-03-09', '2021-03-10', '2021-03-11', '2021-03-12',\n",
              "               '2021-03-13', '2021-03-14', '2021-03-15'],\n",
              "              dtype='datetime64[ns]', freq=None)"
            ]
          },
          "metadata": {
            "tags": []
          },
          "execution_count": 54
        }
      ]
    },
    {
      "cell_type": "code",
      "metadata": {
        "id": "8qr3a7cYrcyP"
      },
      "source": [
        "df.columns"
      ],
      "execution_count": null,
      "outputs": []
    },
    {
      "cell_type": "code",
      "metadata": {
        "id": "jIUokJpcrpmk",
        "colab": {
          "base_uri": "https://localhost:8080/"
        },
        "outputId": "ef1f51b2-851d-4f04-aa01-b845a0ce01c4"
      },
      "source": [
        "df.to_numpy()"
      ],
      "execution_count": null,
      "outputs": [
        {
          "output_type": "execute_result",
          "data": {
            "text/plain": [
              "array([[0.95943803, 0.77338016, 0.33261452, 0.25955663],\n",
              "       [0.72265078, 0.05205603, 0.40165607, 0.65656963],\n",
              "       [0.31884868, 0.42420329, 0.05159324, 0.01666683],\n",
              "       [0.50492224, 0.85183682, 0.24628161, 0.90302348],\n",
              "       [0.03103594, 0.36289873, 0.76872714, 0.41371931],\n",
              "       [0.27527   , 0.92445293, 0.73464982, 0.87516319],\n",
              "       [0.93154097, 0.04140702, 0.90543912, 0.0581104 ]])"
            ]
          },
          "metadata": {
            "tags": []
          },
          "execution_count": 58
        }
      ]
    },
    {
      "cell_type": "code",
      "metadata": {
        "id": "wHFAufNcrt7Y",
        "colab": {
          "base_uri": "https://localhost:8080/",
          "height": 297
        },
        "outputId": "cba8adef-5896-4e3e-810b-0dff4128e245"
      },
      "source": [
        "df.describe()"
      ],
      "execution_count": null,
      "outputs": [
        {
          "output_type": "execute_result",
          "data": {
            "text/html": [
              "<div>\n",
              "<style scoped>\n",
              "    .dataframe tbody tr th:only-of-type {\n",
              "        vertical-align: middle;\n",
              "    }\n",
              "\n",
              "    .dataframe tbody tr th {\n",
              "        vertical-align: top;\n",
              "    }\n",
              "\n",
              "    .dataframe thead th {\n",
              "        text-align: right;\n",
              "    }\n",
              "</style>\n",
              "<table border=\"1\" class=\"dataframe\">\n",
              "  <thead>\n",
              "    <tr style=\"text-align: right;\">\n",
              "      <th></th>\n",
              "      <th>00.00</th>\n",
              "      <th>06.00</th>\n",
              "      <th>12.00</th>\n",
              "      <th>18.00</th>\n",
              "    </tr>\n",
              "  </thead>\n",
              "  <tbody>\n",
              "    <tr>\n",
              "      <th>count</th>\n",
              "      <td>7.000000</td>\n",
              "      <td>7.000000</td>\n",
              "      <td>7.000000</td>\n",
              "      <td>7.000000</td>\n",
              "    </tr>\n",
              "    <tr>\n",
              "      <th>mean</th>\n",
              "      <td>0.534815</td>\n",
              "      <td>0.490034</td>\n",
              "      <td>0.491566</td>\n",
              "      <td>0.454687</td>\n",
              "    </tr>\n",
              "    <tr>\n",
              "      <th>std</th>\n",
              "      <td>0.351585</td>\n",
              "      <td>0.368215</td>\n",
              "      <td>0.314719</td>\n",
              "      <td>0.366845</td>\n",
              "    </tr>\n",
              "    <tr>\n",
              "      <th>min</th>\n",
              "      <td>0.031036</td>\n",
              "      <td>0.041407</td>\n",
              "      <td>0.051593</td>\n",
              "      <td>0.016667</td>\n",
              "    </tr>\n",
              "    <tr>\n",
              "      <th>25%</th>\n",
              "      <td>0.297059</td>\n",
              "      <td>0.207477</td>\n",
              "      <td>0.289448</td>\n",
              "      <td>0.158834</td>\n",
              "    </tr>\n",
              "    <tr>\n",
              "      <th>50%</th>\n",
              "      <td>0.504922</td>\n",
              "      <td>0.424203</td>\n",
              "      <td>0.401656</td>\n",
              "      <td>0.413719</td>\n",
              "    </tr>\n",
              "    <tr>\n",
              "      <th>75%</th>\n",
              "      <td>0.827096</td>\n",
              "      <td>0.812608</td>\n",
              "      <td>0.751688</td>\n",
              "      <td>0.765866</td>\n",
              "    </tr>\n",
              "    <tr>\n",
              "      <th>max</th>\n",
              "      <td>0.959438</td>\n",
              "      <td>0.924453</td>\n",
              "      <td>0.905439</td>\n",
              "      <td>0.903023</td>\n",
              "    </tr>\n",
              "  </tbody>\n",
              "</table>\n",
              "</div>"
            ],
            "text/plain": [
              "          00.00     06.00     12.00     18.00\n",
              "count  7.000000  7.000000  7.000000  7.000000\n",
              "mean   0.534815  0.490034  0.491566  0.454687\n",
              "std    0.351585  0.368215  0.314719  0.366845\n",
              "min    0.031036  0.041407  0.051593  0.016667\n",
              "25%    0.297059  0.207477  0.289448  0.158834\n",
              "50%    0.504922  0.424203  0.401656  0.413719\n",
              "75%    0.827096  0.812608  0.751688  0.765866\n",
              "max    0.959438  0.924453  0.905439  0.903023"
            ]
          },
          "metadata": {
            "tags": []
          },
          "execution_count": 59
        }
      ]
    },
    {
      "cell_type": "code",
      "metadata": {
        "id": "V7q9to9Wrzay",
        "colab": {
          "base_uri": "https://localhost:8080/"
        },
        "outputId": "a8967e44-a159-442e-fda6-40d3c5384e84"
      },
      "source": [
        "arr = np.array([1, 2, 3, 4, 5, 6]).reshape(2, 3)\n",
        "arr.T"
      ],
      "execution_count": null,
      "outputs": [
        {
          "output_type": "execute_result",
          "data": {
            "text/plain": [
              "array([[1, 4],\n",
              "       [2, 5],\n",
              "       [3, 6]])"
            ]
          },
          "metadata": {
            "tags": []
          },
          "execution_count": 60
        }
      ]
    },
    {
      "cell_type": "code",
      "metadata": {
        "colab": {
          "base_uri": "https://localhost:8080/",
          "height": 266
        },
        "id": "EGrscXEP5Wlw",
        "outputId": "e3beb0aa-0572-48a4-85f0-5ecab600ed20"
      },
      "source": [
        "df"
      ],
      "execution_count": null,
      "outputs": [
        {
          "output_type": "execute_result",
          "data": {
            "text/html": [
              "<div>\n",
              "<style scoped>\n",
              "    .dataframe tbody tr th:only-of-type {\n",
              "        vertical-align: middle;\n",
              "    }\n",
              "\n",
              "    .dataframe tbody tr th {\n",
              "        vertical-align: top;\n",
              "    }\n",
              "\n",
              "    .dataframe thead th {\n",
              "        text-align: right;\n",
              "    }\n",
              "</style>\n",
              "<table border=\"1\" class=\"dataframe\">\n",
              "  <thead>\n",
              "    <tr style=\"text-align: right;\">\n",
              "      <th></th>\n",
              "      <th>00.00</th>\n",
              "      <th>06.00</th>\n",
              "      <th>12.00</th>\n",
              "      <th>18.00</th>\n",
              "    </tr>\n",
              "  </thead>\n",
              "  <tbody>\n",
              "    <tr>\n",
              "      <th>2021-03-09</th>\n",
              "      <td>0.959438</td>\n",
              "      <td>0.773380</td>\n",
              "      <td>0.332615</td>\n",
              "      <td>0.259557</td>\n",
              "    </tr>\n",
              "    <tr>\n",
              "      <th>2021-03-10</th>\n",
              "      <td>0.722651</td>\n",
              "      <td>0.052056</td>\n",
              "      <td>0.401656</td>\n",
              "      <td>0.656570</td>\n",
              "    </tr>\n",
              "    <tr>\n",
              "      <th>2021-03-11</th>\n",
              "      <td>0.318849</td>\n",
              "      <td>0.424203</td>\n",
              "      <td>0.051593</td>\n",
              "      <td>0.016667</td>\n",
              "    </tr>\n",
              "    <tr>\n",
              "      <th>2021-03-12</th>\n",
              "      <td>0.504922</td>\n",
              "      <td>0.851837</td>\n",
              "      <td>0.246282</td>\n",
              "      <td>0.903023</td>\n",
              "    </tr>\n",
              "    <tr>\n",
              "      <th>2021-03-13</th>\n",
              "      <td>0.031036</td>\n",
              "      <td>0.362899</td>\n",
              "      <td>0.768727</td>\n",
              "      <td>0.413719</td>\n",
              "    </tr>\n",
              "    <tr>\n",
              "      <th>2021-03-14</th>\n",
              "      <td>0.275270</td>\n",
              "      <td>0.924453</td>\n",
              "      <td>0.734650</td>\n",
              "      <td>0.875163</td>\n",
              "    </tr>\n",
              "    <tr>\n",
              "      <th>2021-03-15</th>\n",
              "      <td>0.931541</td>\n",
              "      <td>0.041407</td>\n",
              "      <td>0.905439</td>\n",
              "      <td>0.058110</td>\n",
              "    </tr>\n",
              "  </tbody>\n",
              "</table>\n",
              "</div>"
            ],
            "text/plain": [
              "               00.00     06.00     12.00     18.00\n",
              "2021-03-09  0.959438  0.773380  0.332615  0.259557\n",
              "2021-03-10  0.722651  0.052056  0.401656  0.656570\n",
              "2021-03-11  0.318849  0.424203  0.051593  0.016667\n",
              "2021-03-12  0.504922  0.851837  0.246282  0.903023\n",
              "2021-03-13  0.031036  0.362899  0.768727  0.413719\n",
              "2021-03-14  0.275270  0.924453  0.734650  0.875163\n",
              "2021-03-15  0.931541  0.041407  0.905439  0.058110"
            ]
          },
          "metadata": {
            "tags": []
          },
          "execution_count": 63
        }
      ]
    },
    {
      "cell_type": "code",
      "metadata": {
        "id": "mdXdMea_sz09",
        "colab": {
          "base_uri": "https://localhost:8080/",
          "height": 266
        },
        "outputId": "e026ccf5-d2fd-47c6-d835-5bce262b6056"
      },
      "source": [
        "df.sort_index(axis=0, ascending=True)"
      ],
      "execution_count": null,
      "outputs": [
        {
          "output_type": "execute_result",
          "data": {
            "text/html": [
              "<div>\n",
              "<style scoped>\n",
              "    .dataframe tbody tr th:only-of-type {\n",
              "        vertical-align: middle;\n",
              "    }\n",
              "\n",
              "    .dataframe tbody tr th {\n",
              "        vertical-align: top;\n",
              "    }\n",
              "\n",
              "    .dataframe thead th {\n",
              "        text-align: right;\n",
              "    }\n",
              "</style>\n",
              "<table border=\"1\" class=\"dataframe\">\n",
              "  <thead>\n",
              "    <tr style=\"text-align: right;\">\n",
              "      <th></th>\n",
              "      <th>00.00</th>\n",
              "      <th>06.00</th>\n",
              "      <th>12.00</th>\n",
              "      <th>18.00</th>\n",
              "    </tr>\n",
              "  </thead>\n",
              "  <tbody>\n",
              "    <tr>\n",
              "      <th>2021-03-09</th>\n",
              "      <td>0.959438</td>\n",
              "      <td>0.773380</td>\n",
              "      <td>0.332615</td>\n",
              "      <td>0.259557</td>\n",
              "    </tr>\n",
              "    <tr>\n",
              "      <th>2021-03-10</th>\n",
              "      <td>0.722651</td>\n",
              "      <td>0.052056</td>\n",
              "      <td>0.401656</td>\n",
              "      <td>0.656570</td>\n",
              "    </tr>\n",
              "    <tr>\n",
              "      <th>2021-03-11</th>\n",
              "      <td>0.318849</td>\n",
              "      <td>0.424203</td>\n",
              "      <td>0.051593</td>\n",
              "      <td>0.016667</td>\n",
              "    </tr>\n",
              "    <tr>\n",
              "      <th>2021-03-12</th>\n",
              "      <td>0.504922</td>\n",
              "      <td>0.851837</td>\n",
              "      <td>0.246282</td>\n",
              "      <td>0.903023</td>\n",
              "    </tr>\n",
              "    <tr>\n",
              "      <th>2021-03-13</th>\n",
              "      <td>0.031036</td>\n",
              "      <td>0.362899</td>\n",
              "      <td>0.768727</td>\n",
              "      <td>0.413719</td>\n",
              "    </tr>\n",
              "    <tr>\n",
              "      <th>2021-03-14</th>\n",
              "      <td>0.275270</td>\n",
              "      <td>0.924453</td>\n",
              "      <td>0.734650</td>\n",
              "      <td>0.875163</td>\n",
              "    </tr>\n",
              "    <tr>\n",
              "      <th>2021-03-15</th>\n",
              "      <td>0.931541</td>\n",
              "      <td>0.041407</td>\n",
              "      <td>0.905439</td>\n",
              "      <td>0.058110</td>\n",
              "    </tr>\n",
              "  </tbody>\n",
              "</table>\n",
              "</div>"
            ],
            "text/plain": [
              "               00.00     06.00     12.00     18.00\n",
              "2021-03-09  0.959438  0.773380  0.332615  0.259557\n",
              "2021-03-10  0.722651  0.052056  0.401656  0.656570\n",
              "2021-03-11  0.318849  0.424203  0.051593  0.016667\n",
              "2021-03-12  0.504922  0.851837  0.246282  0.903023\n",
              "2021-03-13  0.031036  0.362899  0.768727  0.413719\n",
              "2021-03-14  0.275270  0.924453  0.734650  0.875163\n",
              "2021-03-15  0.931541  0.041407  0.905439  0.058110"
            ]
          },
          "metadata": {
            "tags": []
          },
          "execution_count": 67
        }
      ]
    },
    {
      "cell_type": "code",
      "metadata": {
        "id": "-ivAIjDXwrbG",
        "colab": {
          "base_uri": "https://localhost:8080/",
          "height": 266
        },
        "outputId": "4091e681-39f3-4cc8-9d24-946e405fe41c"
      },
      "source": [
        "df.sort_index(axis=1, ascending=False)"
      ],
      "execution_count": null,
      "outputs": [
        {
          "output_type": "execute_result",
          "data": {
            "text/html": [
              "<div>\n",
              "<style scoped>\n",
              "    .dataframe tbody tr th:only-of-type {\n",
              "        vertical-align: middle;\n",
              "    }\n",
              "\n",
              "    .dataframe tbody tr th {\n",
              "        vertical-align: top;\n",
              "    }\n",
              "\n",
              "    .dataframe thead th {\n",
              "        text-align: right;\n",
              "    }\n",
              "</style>\n",
              "<table border=\"1\" class=\"dataframe\">\n",
              "  <thead>\n",
              "    <tr style=\"text-align: right;\">\n",
              "      <th></th>\n",
              "      <th>18.00</th>\n",
              "      <th>12.00</th>\n",
              "      <th>06.00</th>\n",
              "      <th>00.00</th>\n",
              "    </tr>\n",
              "  </thead>\n",
              "  <tbody>\n",
              "    <tr>\n",
              "      <th>2021-03-09</th>\n",
              "      <td>0.259557</td>\n",
              "      <td>0.332615</td>\n",
              "      <td>0.773380</td>\n",
              "      <td>0.959438</td>\n",
              "    </tr>\n",
              "    <tr>\n",
              "      <th>2021-03-10</th>\n",
              "      <td>0.656570</td>\n",
              "      <td>0.401656</td>\n",
              "      <td>0.052056</td>\n",
              "      <td>0.722651</td>\n",
              "    </tr>\n",
              "    <tr>\n",
              "      <th>2021-03-11</th>\n",
              "      <td>0.016667</td>\n",
              "      <td>0.051593</td>\n",
              "      <td>0.424203</td>\n",
              "      <td>0.318849</td>\n",
              "    </tr>\n",
              "    <tr>\n",
              "      <th>2021-03-12</th>\n",
              "      <td>0.903023</td>\n",
              "      <td>0.246282</td>\n",
              "      <td>0.851837</td>\n",
              "      <td>0.504922</td>\n",
              "    </tr>\n",
              "    <tr>\n",
              "      <th>2021-03-13</th>\n",
              "      <td>0.413719</td>\n",
              "      <td>0.768727</td>\n",
              "      <td>0.362899</td>\n",
              "      <td>0.031036</td>\n",
              "    </tr>\n",
              "    <tr>\n",
              "      <th>2021-03-14</th>\n",
              "      <td>0.875163</td>\n",
              "      <td>0.734650</td>\n",
              "      <td>0.924453</td>\n",
              "      <td>0.275270</td>\n",
              "    </tr>\n",
              "    <tr>\n",
              "      <th>2021-03-15</th>\n",
              "      <td>0.058110</td>\n",
              "      <td>0.905439</td>\n",
              "      <td>0.041407</td>\n",
              "      <td>0.931541</td>\n",
              "    </tr>\n",
              "  </tbody>\n",
              "</table>\n",
              "</div>"
            ],
            "text/plain": [
              "               18.00     12.00     06.00     00.00\n",
              "2021-03-09  0.259557  0.332615  0.773380  0.959438\n",
              "2021-03-10  0.656570  0.401656  0.052056  0.722651\n",
              "2021-03-11  0.016667  0.051593  0.424203  0.318849\n",
              "2021-03-12  0.903023  0.246282  0.851837  0.504922\n",
              "2021-03-13  0.413719  0.768727  0.362899  0.031036\n",
              "2021-03-14  0.875163  0.734650  0.924453  0.275270\n",
              "2021-03-15  0.058110  0.905439  0.041407  0.931541"
            ]
          },
          "metadata": {
            "tags": []
          },
          "execution_count": 68
        }
      ]
    },
    {
      "cell_type": "code",
      "metadata": {
        "id": "Jl_zOltLw2eb",
        "colab": {
          "base_uri": "https://localhost:8080/",
          "height": 266
        },
        "outputId": "0600205e-51e7-4833-b048-820ffd7247c9"
      },
      "source": [
        "df.sort_values(by=\"06.00\")"
      ],
      "execution_count": null,
      "outputs": [
        {
          "output_type": "execute_result",
          "data": {
            "text/html": [
              "<div>\n",
              "<style scoped>\n",
              "    .dataframe tbody tr th:only-of-type {\n",
              "        vertical-align: middle;\n",
              "    }\n",
              "\n",
              "    .dataframe tbody tr th {\n",
              "        vertical-align: top;\n",
              "    }\n",
              "\n",
              "    .dataframe thead th {\n",
              "        text-align: right;\n",
              "    }\n",
              "</style>\n",
              "<table border=\"1\" class=\"dataframe\">\n",
              "  <thead>\n",
              "    <tr style=\"text-align: right;\">\n",
              "      <th></th>\n",
              "      <th>00.00</th>\n",
              "      <th>06.00</th>\n",
              "      <th>12.00</th>\n",
              "      <th>18.00</th>\n",
              "    </tr>\n",
              "  </thead>\n",
              "  <tbody>\n",
              "    <tr>\n",
              "      <th>2021-03-15</th>\n",
              "      <td>0.931541</td>\n",
              "      <td>0.041407</td>\n",
              "      <td>0.905439</td>\n",
              "      <td>0.058110</td>\n",
              "    </tr>\n",
              "    <tr>\n",
              "      <th>2021-03-10</th>\n",
              "      <td>0.722651</td>\n",
              "      <td>0.052056</td>\n",
              "      <td>0.401656</td>\n",
              "      <td>0.656570</td>\n",
              "    </tr>\n",
              "    <tr>\n",
              "      <th>2021-03-13</th>\n",
              "      <td>0.031036</td>\n",
              "      <td>0.362899</td>\n",
              "      <td>0.768727</td>\n",
              "      <td>0.413719</td>\n",
              "    </tr>\n",
              "    <tr>\n",
              "      <th>2021-03-11</th>\n",
              "      <td>0.318849</td>\n",
              "      <td>0.424203</td>\n",
              "      <td>0.051593</td>\n",
              "      <td>0.016667</td>\n",
              "    </tr>\n",
              "    <tr>\n",
              "      <th>2021-03-09</th>\n",
              "      <td>0.959438</td>\n",
              "      <td>0.773380</td>\n",
              "      <td>0.332615</td>\n",
              "      <td>0.259557</td>\n",
              "    </tr>\n",
              "    <tr>\n",
              "      <th>2021-03-12</th>\n",
              "      <td>0.504922</td>\n",
              "      <td>0.851837</td>\n",
              "      <td>0.246282</td>\n",
              "      <td>0.903023</td>\n",
              "    </tr>\n",
              "    <tr>\n",
              "      <th>2021-03-14</th>\n",
              "      <td>0.275270</td>\n",
              "      <td>0.924453</td>\n",
              "      <td>0.734650</td>\n",
              "      <td>0.875163</td>\n",
              "    </tr>\n",
              "  </tbody>\n",
              "</table>\n",
              "</div>"
            ],
            "text/plain": [
              "               00.00     06.00     12.00     18.00\n",
              "2021-03-15  0.931541  0.041407  0.905439  0.058110\n",
              "2021-03-10  0.722651  0.052056  0.401656  0.656570\n",
              "2021-03-13  0.031036  0.362899  0.768727  0.413719\n",
              "2021-03-11  0.318849  0.424203  0.051593  0.016667\n",
              "2021-03-09  0.959438  0.773380  0.332615  0.259557\n",
              "2021-03-12  0.504922  0.851837  0.246282  0.903023\n",
              "2021-03-14  0.275270  0.924453  0.734650  0.875163"
            ]
          },
          "metadata": {
            "tags": []
          },
          "execution_count": 69
        }
      ]
    },
    {
      "cell_type": "code",
      "metadata": {
        "id": "6wSO73oPxIj2",
        "colab": {
          "base_uri": "https://localhost:8080/"
        },
        "outputId": "32e8b7c1-3150-4691-b432-d6798d121957"
      },
      "source": [
        "df[\"06.00\"]"
      ],
      "execution_count": null,
      "outputs": [
        {
          "output_type": "execute_result",
          "data": {
            "text/plain": [
              "2021-03-09    0.773380\n",
              "2021-03-10    0.052056\n",
              "2021-03-11    0.424203\n",
              "2021-03-12    0.851837\n",
              "2021-03-13    0.362899\n",
              "2021-03-14    0.924453\n",
              "2021-03-15    0.041407\n",
              "Freq: D, Name: 06.00, dtype: float64"
            ]
          },
          "metadata": {
            "tags": []
          },
          "execution_count": 75
        }
      ]
    },
    {
      "cell_type": "code",
      "metadata": {
        "id": "KHFkWc9KyyKB",
        "colab": {
          "base_uri": "https://localhost:8080/",
          "height": 142
        },
        "outputId": "7f65a112-05ec-44f2-b637-a3bcfe6ec193"
      },
      "source": [
        "df[0: 3]"
      ],
      "execution_count": null,
      "outputs": [
        {
          "output_type": "execute_result",
          "data": {
            "text/html": [
              "<div>\n",
              "<style scoped>\n",
              "    .dataframe tbody tr th:only-of-type {\n",
              "        vertical-align: middle;\n",
              "    }\n",
              "\n",
              "    .dataframe tbody tr th {\n",
              "        vertical-align: top;\n",
              "    }\n",
              "\n",
              "    .dataframe thead th {\n",
              "        text-align: right;\n",
              "    }\n",
              "</style>\n",
              "<table border=\"1\" class=\"dataframe\">\n",
              "  <thead>\n",
              "    <tr style=\"text-align: right;\">\n",
              "      <th></th>\n",
              "      <th>00.00</th>\n",
              "      <th>06.00</th>\n",
              "      <th>12.00</th>\n",
              "      <th>18.00</th>\n",
              "    </tr>\n",
              "  </thead>\n",
              "  <tbody>\n",
              "    <tr>\n",
              "      <th>2021-03-09</th>\n",
              "      <td>0.959438</td>\n",
              "      <td>0.773380</td>\n",
              "      <td>0.332615</td>\n",
              "      <td>0.259557</td>\n",
              "    </tr>\n",
              "    <tr>\n",
              "      <th>2021-03-10</th>\n",
              "      <td>0.722651</td>\n",
              "      <td>0.052056</td>\n",
              "      <td>0.401656</td>\n",
              "      <td>0.656570</td>\n",
              "    </tr>\n",
              "    <tr>\n",
              "      <th>2021-03-11</th>\n",
              "      <td>0.318849</td>\n",
              "      <td>0.424203</td>\n",
              "      <td>0.051593</td>\n",
              "      <td>0.016667</td>\n",
              "    </tr>\n",
              "  </tbody>\n",
              "</table>\n",
              "</div>"
            ],
            "text/plain": [
              "               00.00     06.00     12.00     18.00\n",
              "2021-03-09  0.959438  0.773380  0.332615  0.259557\n",
              "2021-03-10  0.722651  0.052056  0.401656  0.656570\n",
              "2021-03-11  0.318849  0.424203  0.051593  0.016667"
            ]
          },
          "metadata": {
            "tags": []
          },
          "execution_count": 76
        }
      ]
    },
    {
      "cell_type": "code",
      "metadata": {
        "id": "BAL1oAvszViH",
        "colab": {
          "base_uri": "https://localhost:8080/",
          "height": 375
        },
        "outputId": "704cccaf-197b-4834-ea65-6bce43e6a9bf"
      },
      "source": [
        "df[0,:]"
      ],
      "execution_count": null,
      "outputs": [
        {
          "output_type": "error",
          "ename": "TypeError",
          "evalue": "ignored",
          "traceback": [
            "\u001b[0;31m---------------------------------------------------------------------------\u001b[0m",
            "\u001b[0;31mTypeError\u001b[0m                                 Traceback (most recent call last)",
            "\u001b[0;32m<ipython-input-78-0944106b92a0>\u001b[0m in \u001b[0;36m<module>\u001b[0;34m()\u001b[0m\n\u001b[0;32m----> 1\u001b[0;31m \u001b[0mdf\u001b[0m\u001b[0;34m[\u001b[0m\u001b[0;36m0\u001b[0m\u001b[0;34m,\u001b[0m\u001b[0;34m:\u001b[0m\u001b[0;34m]\u001b[0m\u001b[0;34m\u001b[0m\u001b[0;34m\u001b[0m\u001b[0m\n\u001b[0m",
            "\u001b[0;32m/usr/local/lib/python3.7/dist-packages/pandas/core/frame.py\u001b[0m in \u001b[0;36m__getitem__\u001b[0;34m(self, key)\u001b[0m\n\u001b[1;32m   2904\u001b[0m             \u001b[0;32mif\u001b[0m \u001b[0mself\u001b[0m\u001b[0;34m.\u001b[0m\u001b[0mcolumns\u001b[0m\u001b[0;34m.\u001b[0m\u001b[0mnlevels\u001b[0m \u001b[0;34m>\u001b[0m \u001b[0;36m1\u001b[0m\u001b[0;34m:\u001b[0m\u001b[0;34m\u001b[0m\u001b[0;34m\u001b[0m\u001b[0m\n\u001b[1;32m   2905\u001b[0m                 \u001b[0;32mreturn\u001b[0m \u001b[0mself\u001b[0m\u001b[0;34m.\u001b[0m\u001b[0m_getitem_multilevel\u001b[0m\u001b[0;34m(\u001b[0m\u001b[0mkey\u001b[0m\u001b[0;34m)\u001b[0m\u001b[0;34m\u001b[0m\u001b[0;34m\u001b[0m\u001b[0m\n\u001b[0;32m-> 2906\u001b[0;31m             \u001b[0mindexer\u001b[0m \u001b[0;34m=\u001b[0m \u001b[0mself\u001b[0m\u001b[0;34m.\u001b[0m\u001b[0mcolumns\u001b[0m\u001b[0;34m.\u001b[0m\u001b[0mget_loc\u001b[0m\u001b[0;34m(\u001b[0m\u001b[0mkey\u001b[0m\u001b[0;34m)\u001b[0m\u001b[0;34m\u001b[0m\u001b[0;34m\u001b[0m\u001b[0m\n\u001b[0m\u001b[1;32m   2907\u001b[0m             \u001b[0;32mif\u001b[0m \u001b[0mis_integer\u001b[0m\u001b[0;34m(\u001b[0m\u001b[0mindexer\u001b[0m\u001b[0;34m)\u001b[0m\u001b[0;34m:\u001b[0m\u001b[0;34m\u001b[0m\u001b[0;34m\u001b[0m\u001b[0m\n\u001b[1;32m   2908\u001b[0m                 \u001b[0mindexer\u001b[0m \u001b[0;34m=\u001b[0m \u001b[0;34m[\u001b[0m\u001b[0mindexer\u001b[0m\u001b[0;34m]\u001b[0m\u001b[0;34m\u001b[0m\u001b[0;34m\u001b[0m\u001b[0m\n",
            "\u001b[0;32m/usr/local/lib/python3.7/dist-packages/pandas/core/indexes/base.py\u001b[0m in \u001b[0;36mget_loc\u001b[0;34m(self, key, method, tolerance)\u001b[0m\n\u001b[1;32m   2896\u001b[0m             \u001b[0mcasted_key\u001b[0m \u001b[0;34m=\u001b[0m \u001b[0mself\u001b[0m\u001b[0;34m.\u001b[0m\u001b[0m_maybe_cast_indexer\u001b[0m\u001b[0;34m(\u001b[0m\u001b[0mkey\u001b[0m\u001b[0;34m)\u001b[0m\u001b[0;34m\u001b[0m\u001b[0;34m\u001b[0m\u001b[0m\n\u001b[1;32m   2897\u001b[0m             \u001b[0;32mtry\u001b[0m\u001b[0;34m:\u001b[0m\u001b[0;34m\u001b[0m\u001b[0;34m\u001b[0m\u001b[0m\n\u001b[0;32m-> 2898\u001b[0;31m                 \u001b[0;32mreturn\u001b[0m \u001b[0mself\u001b[0m\u001b[0;34m.\u001b[0m\u001b[0m_engine\u001b[0m\u001b[0;34m.\u001b[0m\u001b[0mget_loc\u001b[0m\u001b[0;34m(\u001b[0m\u001b[0mcasted_key\u001b[0m\u001b[0;34m)\u001b[0m\u001b[0;34m\u001b[0m\u001b[0;34m\u001b[0m\u001b[0m\n\u001b[0m\u001b[1;32m   2899\u001b[0m             \u001b[0;32mexcept\u001b[0m \u001b[0mKeyError\u001b[0m \u001b[0;32mas\u001b[0m \u001b[0merr\u001b[0m\u001b[0;34m:\u001b[0m\u001b[0;34m\u001b[0m\u001b[0;34m\u001b[0m\u001b[0m\n\u001b[1;32m   2900\u001b[0m                 \u001b[0;32mraise\u001b[0m \u001b[0mKeyError\u001b[0m\u001b[0;34m(\u001b[0m\u001b[0mkey\u001b[0m\u001b[0;34m)\u001b[0m \u001b[0;32mfrom\u001b[0m \u001b[0merr\u001b[0m\u001b[0;34m\u001b[0m\u001b[0;34m\u001b[0m\u001b[0m\n",
            "\u001b[0;32mpandas/_libs/index.pyx\u001b[0m in \u001b[0;36mpandas._libs.index.IndexEngine.get_loc\u001b[0;34m()\u001b[0m\n",
            "\u001b[0;32mpandas/_libs/index.pyx\u001b[0m in \u001b[0;36mpandas._libs.index.IndexEngine.get_loc\u001b[0;34m()\u001b[0m\n",
            "\u001b[0;31mTypeError\u001b[0m: '(0, slice(None, None, None))' is an invalid key"
          ]
        }
      ]
    },
    {
      "cell_type": "code",
      "metadata": {
        "id": "UAjWcveEy2SD",
        "colab": {
          "base_uri": "https://localhost:8080/"
        },
        "outputId": "25c9c393-5dad-4a38-f98e-02efaff28a97"
      },
      "source": [
        "dates[0]"
      ],
      "execution_count": null,
      "outputs": [
        {
          "output_type": "execute_result",
          "data": {
            "text/plain": [
              "Timestamp('2021-03-09 00:00:00', freq='D')"
            ]
          },
          "metadata": {
            "tags": []
          },
          "execution_count": 85
        }
      ]
    },
    {
      "cell_type": "code",
      "metadata": {
        "id": "asO0mMr1zRmV",
        "colab": {
          "base_uri": "https://localhost:8080/"
        },
        "outputId": "6baef0f6-72cc-4192-c6c5-e48411ec5df1"
      },
      "source": [
        "df.loc[dates[0]]"
      ],
      "execution_count": null,
      "outputs": [
        {
          "output_type": "execute_result",
          "data": {
            "text/plain": [
              "00.00    0.959438\n",
              "06.00    0.773380\n",
              "12.00    0.332615\n",
              "18.00    0.259557\n",
              "Name: 2021-03-09 00:00:00, dtype: float64"
            ]
          },
          "metadata": {
            "tags": []
          },
          "execution_count": 86
        }
      ]
    },
    {
      "cell_type": "code",
      "metadata": {
        "id": "w6Fu4GVGzhyV",
        "colab": {
          "base_uri": "https://localhost:8080/",
          "height": 142
        },
        "outputId": "ea3000af-a9ca-42a3-ed4e-31543e60b134"
      },
      "source": [
        "df.loc[\"20210312\": \"20210314\", [\"00.00\", \"18.00\"]]"
      ],
      "execution_count": null,
      "outputs": [
        {
          "output_type": "execute_result",
          "data": {
            "text/html": [
              "<div>\n",
              "<style scoped>\n",
              "    .dataframe tbody tr th:only-of-type {\n",
              "        vertical-align: middle;\n",
              "    }\n",
              "\n",
              "    .dataframe tbody tr th {\n",
              "        vertical-align: top;\n",
              "    }\n",
              "\n",
              "    .dataframe thead th {\n",
              "        text-align: right;\n",
              "    }\n",
              "</style>\n",
              "<table border=\"1\" class=\"dataframe\">\n",
              "  <thead>\n",
              "    <tr style=\"text-align: right;\">\n",
              "      <th></th>\n",
              "      <th>00.00</th>\n",
              "      <th>18.00</th>\n",
              "    </tr>\n",
              "  </thead>\n",
              "  <tbody>\n",
              "    <tr>\n",
              "      <th>2021-03-12</th>\n",
              "      <td>0.504922</td>\n",
              "      <td>0.903023</td>\n",
              "    </tr>\n",
              "    <tr>\n",
              "      <th>2021-03-13</th>\n",
              "      <td>0.031036</td>\n",
              "      <td>0.413719</td>\n",
              "    </tr>\n",
              "    <tr>\n",
              "      <th>2021-03-14</th>\n",
              "      <td>0.275270</td>\n",
              "      <td>0.875163</td>\n",
              "    </tr>\n",
              "  </tbody>\n",
              "</table>\n",
              "</div>"
            ],
            "text/plain": [
              "               00.00     18.00\n",
              "2021-03-12  0.504922  0.903023\n",
              "2021-03-13  0.031036  0.413719\n",
              "2021-03-14  0.275270  0.875163"
            ]
          },
          "metadata": {
            "tags": []
          },
          "execution_count": 87
        }
      ]
    },
    {
      "cell_type": "code",
      "metadata": {
        "id": "W7YFYuo33IO6",
        "colab": {
          "base_uri": "https://localhost:8080/"
        },
        "outputId": "dc46807c-ac66-450e-f296-bc1f1a00cc64"
      },
      "source": [
        "import time\n",
        "print(time.time())"
      ],
      "execution_count": null,
      "outputs": [
        {
          "output_type": "stream",
          "text": [
            "1615309144.8133476\n"
          ],
          "name": "stdout"
        }
      ]
    },
    {
      "cell_type": "code",
      "metadata": {
        "id": "3MkZ765WzoIz",
        "colab": {
          "base_uri": "https://localhost:8080/"
        },
        "outputId": "b79387ff-390a-4790-c83c-7da166aa3976"
      },
      "source": [
        "start = time.time()\n",
        "print(\"Değer:\", df.loc[\"2021-03-14\", \"00.00\"])\n",
        "print(time.time()-start)"
      ],
      "execution_count": null,
      "outputs": [
        {
          "output_type": "stream",
          "text": [
            "Değer: 0.275270004659245\n",
            "0.001325368881225586\n"
          ],
          "name": "stdout"
        }
      ]
    },
    {
      "cell_type": "code",
      "metadata": {
        "id": "75jgmbYW28A4",
        "colab": {
          "base_uri": "https://localhost:8080/"
        },
        "outputId": "f59b2535-c0c1-4160-d6e2-fe9b984dc7dd"
      },
      "source": [
        "start = time.time()\n",
        "print(\"Değer:\", df.at[\"2021-03-14\", \"00.00\"])\n",
        "print(time.time()-start)"
      ],
      "execution_count": null,
      "outputs": [
        {
          "output_type": "stream",
          "text": [
            "Değer: 0.275270004659245\n",
            "0.002955913543701172\n"
          ],
          "name": "stdout"
        }
      ]
    },
    {
      "cell_type": "code",
      "metadata": {
        "id": "wX4JNClP3HWG",
        "colab": {
          "base_uri": "https://localhost:8080/",
          "height": 173
        },
        "outputId": "ec89a0fa-3e8f-48a8-d6c5-8fdc73b27cd8"
      },
      "source": [
        "df.iloc[0:4, 0:2]"
      ],
      "execution_count": null,
      "outputs": [
        {
          "output_type": "execute_result",
          "data": {
            "text/html": [
              "<div>\n",
              "<style scoped>\n",
              "    .dataframe tbody tr th:only-of-type {\n",
              "        vertical-align: middle;\n",
              "    }\n",
              "\n",
              "    .dataframe tbody tr th {\n",
              "        vertical-align: top;\n",
              "    }\n",
              "\n",
              "    .dataframe thead th {\n",
              "        text-align: right;\n",
              "    }\n",
              "</style>\n",
              "<table border=\"1\" class=\"dataframe\">\n",
              "  <thead>\n",
              "    <tr style=\"text-align: right;\">\n",
              "      <th></th>\n",
              "      <th>00.00</th>\n",
              "      <th>06.00</th>\n",
              "    </tr>\n",
              "  </thead>\n",
              "  <tbody>\n",
              "    <tr>\n",
              "      <th>2021-03-09</th>\n",
              "      <td>0.959438</td>\n",
              "      <td>0.773380</td>\n",
              "    </tr>\n",
              "    <tr>\n",
              "      <th>2021-03-10</th>\n",
              "      <td>0.722651</td>\n",
              "      <td>0.052056</td>\n",
              "    </tr>\n",
              "    <tr>\n",
              "      <th>2021-03-11</th>\n",
              "      <td>0.318849</td>\n",
              "      <td>0.424203</td>\n",
              "    </tr>\n",
              "    <tr>\n",
              "      <th>2021-03-12</th>\n",
              "      <td>0.504922</td>\n",
              "      <td>0.851837</td>\n",
              "    </tr>\n",
              "  </tbody>\n",
              "</table>\n",
              "</div>"
            ],
            "text/plain": [
              "               00.00     06.00\n",
              "2021-03-09  0.959438  0.773380\n",
              "2021-03-10  0.722651  0.052056\n",
              "2021-03-11  0.318849  0.424203\n",
              "2021-03-12  0.504922  0.851837"
            ]
          },
          "metadata": {
            "tags": []
          },
          "execution_count": 108
        }
      ]
    },
    {
      "cell_type": "code",
      "metadata": {
        "id": "Doa7u7By3yL_",
        "colab": {
          "base_uri": "https://localhost:8080/",
          "height": 142
        },
        "outputId": "f8dbedb4-a2b8-4689-fe6a-1b775f2c1625"
      },
      "source": [
        "df.iloc[[0, 2, 4], [2, 3]]"
      ],
      "execution_count": null,
      "outputs": [
        {
          "output_type": "execute_result",
          "data": {
            "text/html": [
              "<div>\n",
              "<style scoped>\n",
              "    .dataframe tbody tr th:only-of-type {\n",
              "        vertical-align: middle;\n",
              "    }\n",
              "\n",
              "    .dataframe tbody tr th {\n",
              "        vertical-align: top;\n",
              "    }\n",
              "\n",
              "    .dataframe thead th {\n",
              "        text-align: right;\n",
              "    }\n",
              "</style>\n",
              "<table border=\"1\" class=\"dataframe\">\n",
              "  <thead>\n",
              "    <tr style=\"text-align: right;\">\n",
              "      <th></th>\n",
              "      <th>12.00</th>\n",
              "      <th>18.00</th>\n",
              "    </tr>\n",
              "  </thead>\n",
              "  <tbody>\n",
              "    <tr>\n",
              "      <th>2021-03-09</th>\n",
              "      <td>0.332615</td>\n",
              "      <td>0.259557</td>\n",
              "    </tr>\n",
              "    <tr>\n",
              "      <th>2021-03-11</th>\n",
              "      <td>0.051593</td>\n",
              "      <td>0.016667</td>\n",
              "    </tr>\n",
              "    <tr>\n",
              "      <th>2021-03-13</th>\n",
              "      <td>0.768727</td>\n",
              "      <td>0.413719</td>\n",
              "    </tr>\n",
              "  </tbody>\n",
              "</table>\n",
              "</div>"
            ],
            "text/plain": [
              "               12.00     18.00\n",
              "2021-03-09  0.332615  0.259557\n",
              "2021-03-11  0.051593  0.016667\n",
              "2021-03-13  0.768727  0.413719"
            ]
          },
          "metadata": {
            "tags": []
          },
          "execution_count": 109
        }
      ]
    },
    {
      "cell_type": "code",
      "metadata": {
        "id": "3YMlqQuh35iN",
        "colab": {
          "base_uri": "https://localhost:8080/",
          "height": 142
        },
        "outputId": "116567f1-cbd0-489c-9046-c1d091eee4f9"
      },
      "source": [
        "df[df[\"12.00\"] > 0.5]"
      ],
      "execution_count": null,
      "outputs": [
        {
          "output_type": "execute_result",
          "data": {
            "text/html": [
              "<div>\n",
              "<style scoped>\n",
              "    .dataframe tbody tr th:only-of-type {\n",
              "        vertical-align: middle;\n",
              "    }\n",
              "\n",
              "    .dataframe tbody tr th {\n",
              "        vertical-align: top;\n",
              "    }\n",
              "\n",
              "    .dataframe thead th {\n",
              "        text-align: right;\n",
              "    }\n",
              "</style>\n",
              "<table border=\"1\" class=\"dataframe\">\n",
              "  <thead>\n",
              "    <tr style=\"text-align: right;\">\n",
              "      <th></th>\n",
              "      <th>00.00</th>\n",
              "      <th>06.00</th>\n",
              "      <th>12.00</th>\n",
              "      <th>18.00</th>\n",
              "    </tr>\n",
              "  </thead>\n",
              "  <tbody>\n",
              "    <tr>\n",
              "      <th>2021-03-13</th>\n",
              "      <td>0.031036</td>\n",
              "      <td>0.362899</td>\n",
              "      <td>0.768727</td>\n",
              "      <td>0.413719</td>\n",
              "    </tr>\n",
              "    <tr>\n",
              "      <th>2021-03-14</th>\n",
              "      <td>0.275270</td>\n",
              "      <td>0.924453</td>\n",
              "      <td>0.734650</td>\n",
              "      <td>0.875163</td>\n",
              "    </tr>\n",
              "    <tr>\n",
              "      <th>2021-03-15</th>\n",
              "      <td>0.931541</td>\n",
              "      <td>0.041407</td>\n",
              "      <td>0.905439</td>\n",
              "      <td>0.058110</td>\n",
              "    </tr>\n",
              "  </tbody>\n",
              "</table>\n",
              "</div>"
            ],
            "text/plain": [
              "               00.00     06.00     12.00     18.00\n",
              "2021-03-13  0.031036  0.362899  0.768727  0.413719\n",
              "2021-03-14  0.275270  0.924453  0.734650  0.875163\n",
              "2021-03-15  0.931541  0.041407  0.905439  0.058110"
            ]
          },
          "metadata": {
            "tags": []
          },
          "execution_count": 111
        }
      ]
    },
    {
      "cell_type": "code",
      "metadata": {
        "id": "vpMNP8Nn4EXA"
      },
      "source": [
        "df2 = df"
      ],
      "execution_count": null,
      "outputs": []
    },
    {
      "cell_type": "code",
      "metadata": {
        "id": "UPI3wjDp4VoO"
      },
      "source": [
        "print(df2.iloc[0, 0])\n",
        "df2.iloc[0, 0] = \"HAHA\""
      ],
      "execution_count": null,
      "outputs": []
    },
    {
      "cell_type": "code",
      "metadata": {
        "id": "bkIWDxr74YNn"
      },
      "source": [
        "df2"
      ],
      "execution_count": null,
      "outputs": []
    },
    {
      "cell_type": "code",
      "metadata": {
        "id": "EbS1iD4h4Y7R"
      },
      "source": [
        "df"
      ],
      "execution_count": null,
      "outputs": []
    },
    {
      "cell_type": "code",
      "metadata": {
        "id": "p1XxOwHX4aBG"
      },
      "source": [
        "df.loc[\"2021-03-13\": \"2021-03-14\", \"06.00\": \"12.00\"] = np.nan\n",
        "df"
      ],
      "execution_count": null,
      "outputs": []
    },
    {
      "cell_type": "code",
      "metadata": {
        "id": "-HSI-Gp-5XNv"
      },
      "source": [
        "df.dropna(how=\"any\")"
      ],
      "execution_count": null,
      "outputs": []
    },
    {
      "cell_type": "code",
      "metadata": {
        "id": "bc68hLAr60S8"
      },
      "source": [
        "df"
      ],
      "execution_count": null,
      "outputs": []
    },
    {
      "cell_type": "code",
      "metadata": {
        "id": "1Vcnosw768oj"
      },
      "source": [
        "df.dropna(how=\"all\", axis=1)"
      ],
      "execution_count": null,
      "outputs": []
    },
    {
      "cell_type": "code",
      "metadata": {
        "id": "y41dLVYC61la"
      },
      "source": [
        "df.fillna(value=0)"
      ],
      "execution_count": null,
      "outputs": []
    },
    {
      "cell_type": "code",
      "metadata": {
        "id": "Y_RDHY1C7J-Z"
      },
      "source": [
        "df"
      ],
      "execution_count": null,
      "outputs": []
    },
    {
      "cell_type": "code",
      "metadata": {
        "id": "IWn3ySSA7O1A"
      },
      "source": [
        "df.isna()"
      ],
      "execution_count": null,
      "outputs": []
    },
    {
      "cell_type": "code",
      "metadata": {
        "id": "YB3DIqH57Z0o"
      },
      "source": [
        "df.mean()"
      ],
      "execution_count": null,
      "outputs": []
    },
    {
      "cell_type": "code",
      "metadata": {
        "id": "wDasR2SD7tH_"
      },
      "source": [
        "df.mean(axis=1)"
      ],
      "execution_count": null,
      "outputs": []
    },
    {
      "cell_type": "code",
      "metadata": {
        "id": "KobD_f8V73p1"
      },
      "source": [
        "df.apply(lambda x: x.max())"
      ],
      "execution_count": null,
      "outputs": []
    },
    {
      "cell_type": "code",
      "metadata": {
        "id": "EAN61Cwq8RP9"
      },
      "source": [
        "df.apply(lambda x: x.sum(), axis=1)"
      ],
      "execution_count": null,
      "outputs": []
    },
    {
      "cell_type": "code",
      "metadata": {
        "id": "PI9ouYsC8rCg"
      },
      "source": [
        "df"
      ],
      "execution_count": null,
      "outputs": []
    },
    {
      "cell_type": "code",
      "metadata": {
        "id": "9R4ZbZFa8VCc"
      },
      "source": [
        "df.apply(np.cumsum)"
      ],
      "execution_count": null,
      "outputs": []
    },
    {
      "cell_type": "code",
      "metadata": {
        "id": "eqXzw9iJ8mPX"
      },
      "source": [
        "df3 = pd.DataFrame([\n",
        "                    [1, 2, 3],\n",
        "                    [4, 5, 6]\n",
        "])\n",
        "df3"
      ],
      "execution_count": null,
      "outputs": []
    },
    {
      "cell_type": "code",
      "metadata": {
        "id": "GwZ-HhDr8_TJ"
      },
      "source": [
        "pieces = [df3[:1], df3, df3[2:]]"
      ],
      "execution_count": null,
      "outputs": []
    },
    {
      "cell_type": "code",
      "metadata": {
        "id": "2BtyNvmZ9OFp"
      },
      "source": [
        "pd.concat(pieces)"
      ],
      "execution_count": null,
      "outputs": []
    },
    {
      "cell_type": "code",
      "metadata": {
        "id": "EGK2kNx39Nul"
      },
      "source": [
        "first = pd.DataFrame({\"key\": [\"value1\", \"value2\"], \"left-val\": [1, 2]})\n",
        "second = pd.DataFrame({\"key\": [\"value1\", \"value2\"], \"right-val\": [3, 4]})\n",
        "print(first)\n",
        "print(\"#\"*20)\n",
        "print(second)"
      ],
      "execution_count": null,
      "outputs": []
    },
    {
      "cell_type": "code",
      "metadata": {
        "id": "28e4wafp9wJm"
      },
      "source": [
        "pd.merge(first, second, on=\"key\")"
      ],
      "execution_count": null,
      "outputs": []
    },
    {
      "cell_type": "code",
      "metadata": {
        "id": "8GVKPuQ597j7"
      },
      "source": [
        "df"
      ],
      "execution_count": null,
      "outputs": []
    },
    {
      "cell_type": "code",
      "metadata": {
        "id": "X9UtFZ-s-SxS"
      },
      "source": [
        "df4 = pd.DataFrame(data)\n",
        "df4"
      ],
      "execution_count": null,
      "outputs": []
    },
    {
      "cell_type": "code",
      "metadata": {
        "id": "wPrZ7xTS-vmp"
      },
      "source": [
        "data = {\n",
        "    \"isim\": [\"Ahmet\", \"Ezgi\", \"Mehmet\", \"Sevda\", \"Ezgi\"],\n",
        "    \"boy\": [180, 170, 150, 160, 150],\n",
        "    \"ayakkabi_no\": [42, 37, 39, 36, 38],\n",
        "    \"kilo\": [80, 50, 70, 50, 60]\n",
        "}\n",
        "df4 = pd.DataFrame(data)"
      ],
      "execution_count": null,
      "outputs": []
    },
    {
      "cell_type": "code",
      "metadata": {
        "id": "XHdvbXqd-VqJ"
      },
      "source": [
        "df4.groupby(\"kilo\").mean()"
      ],
      "execution_count": null,
      "outputs": []
    },
    {
      "cell_type": "code",
      "metadata": {
        "id": "LonvYDLG-poe"
      },
      "source": [
        "df4.groupby([\"boy\", \"kilo\"]).mean()"
      ],
      "execution_count": null,
      "outputs": []
    },
    {
      "cell_type": "code",
      "metadata": {
        "id": "NNDh4qAu_5Cg"
      },
      "source": [
        ""
      ],
      "execution_count": null,
      "outputs": []
    }
  ]
}
