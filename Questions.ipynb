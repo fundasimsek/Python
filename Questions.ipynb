{
  "nbformat": 4,
  "nbformat_minor": 0,
  "metadata": {
    "colab": {
      "provenance": []
    },
    "kernelspec": {
      "name": "python3",
      "display_name": "Python 3"
    },
    "language_info": {
      "name": "python"
    }
  },
  "cells": [
    {
      "cell_type": "code",
      "execution_count": null,
      "metadata": {
        "id": "tFXEvNyeIw5T"
      },
      "outputs": [],
      "source": [
        "import random\n",
        "\n",
        "def choose_word():\n",
        "  words = ['elma', 'armut', 'muz', 'çilek', 'kiraz', 'portakal', 'karpuz']\n",
        "\n",
        "  return random.choice(words)\n",
        "\n",
        "def display_word(word, guessed_letters):\n",
        "  display = \"\"\n",
        "  for letter in word:\n",
        "    if letter in guessed_letters:\n",
        "      display += letter\n",
        "    else:\n",
        "      display += \"_\"\n",
        "\n",
        "  return display\n",
        "\n",
        "def main():\n",
        "  word_to_guess = choose_word()\n",
        "  guessed_letters = []\n",
        "  attempts = 6\n",
        "  print(\"Oyunumuza Hoşgeldiniz!\")\n",
        "  print(display_word(word_to_guess, guessed_letters))\n",
        "\n",
        "  while attempts > 0:\n",
        "    guess = input('bir harf tahmin edin: ').lower()\n",
        "\n",
        "    if len(guess) !=1:\n",
        "      print(\"Lütfen sadece bir harf girin.\")\n",
        "      continue\n",
        "\n",
        "    if guess in guessed_letters:\n",
        "      print(\"bu hargi zaten tahmin ettiniz.\")\n",
        "      continue\n",
        "\n",
        "    guessed_letters.append(guess)\n",
        "\n",
        "    if guess in word_to_guess:\n",
        "      print(\"Doğru tahmin. Yaşasın!!!!\")\n",
        "      print(display_word(word_to_guess, guessed_letters))\n",
        "\n",
        "      if \"_\" not in display_word(word_to_guess, guessed_letters):\n",
        "        print(\"Tebrikler! Kelimeyi doğru tahmin ettiniz\")\n",
        "        break\n",
        "    else:\n",
        "      attempts -=1\n",
        "      print(f\"Yanlış Tahmin!! Kalan Hakkınız: {attempts}\")\n",
        "      if attempts == 0:\n",
        "        print(\"Hakkınız Bitmiştir. Teşekkür ederiz.\")\n",
        "        print(f\"Seçilen kelime:{choose_word()}\")\n",
        "\n",
        "\n",
        "if __name__ == \"__main__\":\n",
        "  main()"
      ]
    },
    {
      "cell_type": "code",
      "source": [
        "if \"i\" in \"i\":\n",
        "  print(\"hello\")"
      ],
      "metadata": {
        "id": "pWiTOZMkTfpx",
        "colab": {
          "base_uri": "https://localhost:8080/"
        },
        "outputId": "9fb942ca-212b-4f93-81f5-3116e0a98d93"
      },
      "execution_count": 1,
      "outputs": [
        {
          "output_type": "stream",
          "name": "stdout",
          "text": [
            "hello\n"
          ]
        }
      ]
    },
    {
      "cell_type": "code",
      "source": [
        "if \"i\" in \"j\":\n",
        "  print(\"hello\")"
      ],
      "metadata": {
        "id": "8Qwajox09wfu"
      },
      "execution_count": 2,
      "outputs": []
    },
    {
      "cell_type": "code",
      "source": [],
      "metadata": {
        "id": "N3sFsZzi91-h"
      },
      "execution_count": null,
      "outputs": []
    }
  ]
}